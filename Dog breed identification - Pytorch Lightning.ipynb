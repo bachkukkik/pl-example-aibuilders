{
 "cells": [
  {
   "cell_type": "markdown",
   "id": "defined-garden",
   "metadata": {},
   "source": [
    "## **Prepare dataset**\n",
    "\n",
    "- Download the dataset from Kaggle https://www.kaggle.com/c/dog-breed-identification\n",
    "- Put the dataset in this root directory\n",
    "- Arrange data to the following format\n",
    "\n",
    "```\n",
    "Downloaded format:\n",
    "train/\n",
    "test/\n",
    "labels.csv\n",
    "```\n",
    "\n",
    "\n",
    "```\n",
    "Preferred format:\n",
    "- root_dir/\n",
    "    breed1/\n",
    "    breed2/\n",
    "    breed3/\n",
    "```\n",
    "\n",
    "- Use `ImageFolder`, `DataLoader` to get `train_loader`\n",
    "\n",
    "Reference: https://www.youtube.com/watch?v=nCq_vy9qE-k"
   ]
  },
  {
   "cell_type": "code",
   "execution_count": null,
   "id": "demonstrated-judge",
   "metadata": {},
   "outputs": [],
   "source": [
    "import os\n",
    "import os.path as op\n",
    "import shutil\n",
    "from glob import glob\n",
    "import pandas as pd\n",
    "import numpy as np\n",
    "import matplotlib.pyplot as plt\n",
    "\n",
    "from torchvision import datasets, models, transforms\n",
    "from torch.utils.data import DataLoader\n",
    "import pytorch_lightning as pl"
   ]
  },
  {
   "cell_type": "code",
   "execution_count": null,
   "id": "visible-freedom",
   "metadata": {},
   "outputs": [],
   "source": [
    "# get all image paths\n",
    "img_df = pd.DataFrame(glob(\"train/*.jpg\"), columns=[\"path\"])\n",
    "img_df[\"id\"] = img_df.path.map(lambda x: op.basename(x).replace(\".jpg\", \"\"))\n",
    "\n",
    "# read label data\n",
    "label_df = pd.read_csv(\"labels.csv\")\n",
    "train_df = img_df.merge(label_df, on=\"id\")"
   ]
  },
  {
   "cell_type": "code",
   "execution_count": null,
   "id": "reliable-ballet",
   "metadata": {},
   "outputs": [],
   "source": [
    "train_df.head()"
   ]
  },
  {
   "cell_type": "code",
   "execution_count": null,
   "id": "technical-effect",
   "metadata": {},
   "outputs": [],
   "source": [
    "# save all dataest to a new folder called \"train_data\"\n",
    "root_dir = \"train_data\"\n",
    "for _, r in train_df.iterrows():\n",
    "    if not op.exists(f\"{root_dir}/{r.breed}\"):\n",
    "        os.makedirs(f\"{root_dir}/{r.breed}\")\n",
    "    shutil.copy(r.path, f\"{root_dir}/{r.breed}/{r.id}.jpg\")"
   ]
  },
  {
   "cell_type": "code",
   "execution_count": null,
   "id": "cloudy-advertiser",
   "metadata": {},
   "outputs": [],
   "source": [
    "transform = transforms.Compose([\n",
    "    transforms.RandomResizedCrop(224),\n",
    "    transforms.ToTensor(),\n",
    "    transforms.Normalize((0.485, 0.456, 0.406), (0.229, 0.224, 0.225))\n",
    "])\n",
    "train_data = datasets.ImageFolder(root_dir, transform=transform)\n",
    "train_loader = DataLoader(train_data, batch_size=32, num_workers=0, shuffle=True)\n",
    "\n",
    "classes = train_data.classes\n",
    "n_classes = len(classes)"
   ]
  },
  {
   "cell_type": "code",
   "execution_count": null,
   "id": "heated-vegetation",
   "metadata": {},
   "outputs": [],
   "source": [
    "print(n_classes)"
   ]
  },
  {
   "cell_type": "code",
   "execution_count": null,
   "id": "brazilian-budget",
   "metadata": {},
   "outputs": [],
   "source": [
    "x, y = next(iter(train_loader))"
   ]
  },
  {
   "cell_type": "markdown",
   "id": "crazy-living",
   "metadata": {},
   "source": [
    "## **Transfer Learning with Pytorch lightning**"
   ]
  },
  {
   "cell_type": "code",
   "execution_count": null,
   "id": "boxed-cleanup",
   "metadata": {},
   "outputs": [],
   "source": [
    "import torch\n",
    "from torch.nn.functional import cross_entropy\n",
    "from torchvision import models\n",
    "\n",
    "resnet50 = models.resnet50(pretrained=True)"
   ]
  },
  {
   "cell_type": "code",
   "execution_count": null,
   "id": "herbal-prior",
   "metadata": {},
   "outputs": [],
   "source": [
    "import pytorch_lightning as pl\n",
    "\n",
    "class DogBreedClassifier(pl.LightningModule):\n",
    "    def __init__(self, n_classes=120, lr=1e-4):\n",
    "        super().__init__()\n",
    "        \n",
    "        self.lr = 1e-4\n",
    "        self.backbone = models.resnet50(pretrained=True)\n",
    "        self.finetune_layer = torch.nn.Linear(self.backbone.fc.out_features, n_classes)\n",
    "\n",
    "    def forward(x):\n",
    "        features = self.backbone(x)\n",
    "        preds = self.finetune_layer(features)\n",
    "        return preds\n",
    "        \n",
    "    def training_step(self, batch, batch_idx):\n",
    "        x, y = batch\n",
    "        with torch.no_grad():\n",
    "            features = self.backbone(x)\n",
    "        preds = self.finetune_layer(features)\n",
    "        loss = cross_entropy(preds, y)\n",
    "        self.log(\"train_loss\", loss)  # logging\n",
    "        return loss\n",
    "\n",
    "    def configure_optimizers(self):\n",
    "        optimizer = torch.optim.Adam(self.parameters(), lr=self.lr)"
   ]
  },
  {
   "cell_type": "code",
   "execution_count": null,
   "id": "right-pendant",
   "metadata": {},
   "outputs": [],
   "source": [
    "# initialize class instance\n",
    "classifier = DogBreedClassifier()\n",
    "\n",
    "# using pytorch lightning to fit the train_loader\n",
    "trainer = pl.Trainer(progress_bar_refresh_rate=20, max_epochs=5) # fast_dev_run=True, gpus=1\n",
    "trainer.fit(classifier, train_loader)"
   ]
  },
  {
   "cell_type": "markdown",
   "id": "impossible-messaging",
   "metadata": {},
   "source": [
    "## **Make it a bit more complex**"
   ]
  },
  {
   "cell_type": "code",
   "execution_count": null,
   "id": "latest-dallas",
   "metadata": {},
   "outputs": [],
   "source": [
    "from torchmetrics.functional import accuracy"
   ]
  },
  {
   "cell_type": "code",
   "execution_count": null,
   "id": "heard-trigger",
   "metadata": {},
   "outputs": [],
   "source": [
    "# example\n",
    "accuracy(torch.tensor([0,1,0]), torch.tensor([0,0,0]))"
   ]
  },
  {
   "cell_type": "code",
   "execution_count": null,
   "id": "competitive-kuwait",
   "metadata": {},
   "outputs": [],
   "source": [
    "class DogBreedClassifierPlus(pl.LightningModule):\n",
    "    def __init__(self, n_classes=120, lr=1e-4):\n",
    "        super().__init__()\n",
    "        self.save_hyperparameters()\n",
    "        \n",
    "        self.backbone = models.resnet50(pretrained=True)\n",
    "        self.finetune_layer = torch.nn.Linear(self.backbone.fc.out_features, n_classes)\n",
    "\n",
    "    def forward(x):\n",
    "        features = self.backbone(x)\n",
    "        preds = self.finetune_layer(features)\n",
    "        return preds\n",
    "        \n",
    "    def training_step(self, batch, batch_idx):\n",
    "        x, y = batch\n",
    "        # only train \n",
    "        if self.trainer.current_epoch < 10:\n",
    "            with torch.no_grad():\n",
    "                features = self.backbone(x)\n",
    "        else:\n",
    "            features = self.backbone(x)\n",
    "        preds = self.finetune_layer(features)\n",
    "        loss = cross_entropy(preds, y)\n",
    "        self.log(\"train_loss\", loss)  # logging loss\n",
    "        self.log(\"train_accuracy\", accuracy(preds, y)) # logging accuracy\n",
    "        return loss\n",
    "\n",
    "    def configure_optimizers(self):\n",
    "        optimizer = torch.optim.Adam(self.parameters(), lr=self.hparams.lr)"
   ]
  },
  {
   "cell_type": "code",
   "execution_count": null,
   "id": "exotic-capacity",
   "metadata": {},
   "outputs": [],
   "source": [
    "# initialize class instance\n",
    "classifier = DogBreedClassifierPlus()\n",
    "\n",
    "# using pytorch lightning to fit the train_loader\n",
    "trainer = pl.Trainer(progress_bar_refresh_rate=1, max_epochs=5, fast_dev_run=True)\n",
    "trainer.fit(classifier, train_loader)"
   ]
  },
  {
   "cell_type": "markdown",
   "id": "active-payday",
   "metadata": {},
   "source": [
    "## **Homework**\n",
    "\n",
    "- Try changing `max_epochs`\n",
    "- Try changing the pre-trained model in `backbone`. See how it affects the final accuracy\n",
    "- Observe the difference between `DogBreedClassifier` and `DogBreedClassifierPlus`. What happens after `current_epoch`. Hint: you can look at the tensorboard"
   ]
  },
  {
   "cell_type": "code",
   "execution_count": null,
   "id": "regional-steal",
   "metadata": {},
   "outputs": [],
   "source": []
  }
 ],
 "metadata": {
  "kernelspec": {
   "display_name": "Python 3",
   "language": "python",
   "name": "python3"
  },
  "language_info": {
   "codemirror_mode": {
    "name": "ipython",
    "version": 3
   },
   "file_extension": ".py",
   "mimetype": "text/x-python",
   "name": "python",
   "nbconvert_exporter": "python",
   "pygments_lexer": "ipython3",
   "version": "3.7.4"
  }
 },
 "nbformat": 4,
 "nbformat_minor": 5
}
