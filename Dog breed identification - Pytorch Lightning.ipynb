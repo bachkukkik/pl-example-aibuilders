{
 "cells": [
  {
   "cell_type": "markdown",
   "metadata": {},
   "source": [
    "## **Prepare dataset**\n",
    "\n",
    "- Download the dataset from Kaggle https://www.kaggle.com/c/dog-breed-identification\n",
    "- Put the dataset in this root directory\n",
    "- Arrange data to the following format\n",
    "\n",
    "```\n",
    "Downloaded format:\n",
    "train/\n",
    "test/\n",
    "labels.csv\n",
    "```\n",
    "\n",
    "\n",
    "```\n",
    "Preferred format:\n",
    "- root_dir/\n",
    "    breed1/\n",
    "    breed2/\n",
    "    breed3/\n",
    "```\n",
    "\n",
    "- Use `ImageFolder`, `DataLoader` to get `train_loader`\n",
    "\n",
    "Reference: https://www.youtube.com/watch?v=nCq_vy9qE-k"
   ]
  },
  {
   "cell_type": "code",
   "execution_count": null,
   "metadata": {},
   "outputs": [],
   "source": [
    "# install libraries if you do not have them yet\n",
    "!pip install pytorch_lightning\n",
    "!pip install kaggle  # you have to generate kaggle.json and put into ~/.kaggle/kaggle.json\n",
    "!kaggle competitions download -c dog-breed-identification # download the dataset"
   ]
  },
  {
   "cell_type": "code",
   "execution_count": null,
   "metadata": {},
   "outputs": [],
   "source": [
    "import os\n",
    "import os.path as op\n",
    "import shutil\n",
    "from glob import glob\n",
    "import pandas as pd\n",
    "import numpy as np\n",
    "import matplotlib.pyplot as plt\n",
    "\n",
    "from torchvision import datasets, models, transforms\n",
    "from torch.utils.data import DataLoader\n",
    "import pytorch_lightning as pl"
   ]
  },
  {
   "cell_type": "code",
   "execution_count": null,
   "metadata": {},
   "outputs": [],
   "source": [
    "# get all image paths\n",
    "img_df = pd.DataFrame(glob(\"data/train/*.jpg\"), columns=[\"path\"])\n",
    "img_df[\"id\"] = img_df.path.map(lambda x: op.basename(x).replace(\".jpg\", \"\"))\n",
    "\n",
    "# read label data\n",
    "label_df = pd.read_csv(\"data/labels.csv\")\n",
    "train_df = img_df.merge(label_df, on=\"id\")"
   ]
  },
  {
   "cell_type": "code",
   "execution_count": null,
   "metadata": {},
   "outputs": [],
   "source": [
    "train_df.head()"
   ]
  },
  {
   "cell_type": "code",
   "execution_count": null,
   "metadata": {},
   "outputs": [],
   "source": [
    "# save all dataest to a new folder called \"train_data\"\n",
    "root_dir = \"train_data\"\n",
    "for _, r in train_df.iterrows():\n",
    "    if not op.exists(f\"{root_dir}/{r.breed}\"):\n",
    "        os.makedirs(f\"{root_dir}/{r.breed}\")\n",
    "    shutil.copy(r.path, f\"{root_dir}/{r.breed}/{r.id}.jpg\")"
   ]
  },
  {
   "cell_type": "code",
   "execution_count": null,
   "metadata": {},
   "outputs": [],
   "source": [
    "transform = transforms.Compose([\n",
    "    transforms.RandomResizedCrop(224),\n",
    "    transforms.ToTensor(),\n",
    "    transforms.Normalize((0.485, 0.456, 0.406), (0.229, 0.224, 0.225))\n",
    "])\n",
    "train_data = datasets.ImageFolder(root_dir, transform=transform)\n",
    "train_loader = DataLoader(train_data, batch_size=32, num_workers=0, shuffle=True)\n",
    "\n",
    "classes = train_data.classes\n",
    "n_classes = len(classes)"
   ]
  },
  {
   "cell_type": "code",
   "execution_count": null,
   "metadata": {},
   "outputs": [],
   "source": [
    "print(n_classes)"
   ]
  },
  {
   "cell_type": "code",
   "execution_count": null,
   "metadata": {},
   "outputs": [],
   "source": [
    "x, y = next(iter(train_loader))"
   ]
  },
  {
   "cell_type": "markdown",
   "metadata": {},
   "source": [
    "## **Transfer Learning with Pytorch lightning**"
   ]
  },
  {
   "cell_type": "code",
   "execution_count": null,
   "metadata": {},
   "outputs": [],
   "source": [
    "import torch\n",
    "from torch.nn.functional import cross_entropy\n",
    "from torchmetrics.functional import accuracy\n",
    "from torchvision import models\n",
    "\n",
    "# resnet50 = models.resnet50(pretrained=True)"
   ]
  },
  {
   "cell_type": "code",
   "execution_count": null,
   "metadata": {},
   "outputs": [],
   "source": [
    "# example\n",
    "accuracy(torch.tensor([0,1,0]), torch.tensor([0,0,0]))"
   ]
  },
  {
   "cell_type": "code",
   "execution_count": null,
   "metadata": {},
   "outputs": [],
   "source": [
    "import pytorch_lightning as pl\n",
    "from pytorch_lightning.callbacks.progress import TQDMProgressBar\n",
    "\n",
    "class DogBreedClassifier(pl.LightningModule):\n",
    "    def __init__(self, n_classes=120, lr=1e-4):\n",
    "        super().__init__()\n",
    "        \n",
    "        self.lr = lr\n",
    "        # create resnet50, replace last layer\n",
    "        self.backbone = models.resnet50(pretrained=True)\n",
    "        for param in self.backbone.parameters():\n",
    "            param.requires_grad = False\n",
    "        self.backbone.fc = torch.nn.Linear(self.backbone.fc.in_features, n_classes)\n",
    "\n",
    "    def forward(self, x):\n",
    "        preds = self.backbone(x)\n",
    "        return preds\n",
    "        \n",
    "    def training_step(self, batch, batch_idx):\n",
    "        x, y = batch\n",
    "        preds = self.backbone(x)\n",
    "        loss = cross_entropy(preds, y)\n",
    "        self.log(\"train_loss\", loss)  # logging\n",
    "        self.log(\"train_accuracy\", accuracy(preds, y))\n",
    "        return loss\n",
    "\n",
    "    def configure_optimizers(self):\n",
    "        optimizer = torch.optim.Adam(self.parameters(), lr=self.lr)\n",
    "        return optimizer"
   ]
  },
  {
   "cell_type": "code",
   "execution_count": null,
   "metadata": {},
   "outputs": [],
   "source": [
    "# initialize class instance\n",
    "classifier = DogBreedClassifier(lr=1e-4)\n",
    "\n",
    "# using pytorch lightning to fit the train_loader\n",
    "trainer = pl.Trainer(callbacks=[TQDMProgressBar(refresh_rate=1)], max_epochs=5, gpus=1) # fast_dev_run=True, gpus=1\n",
    "trainer.fit(classifier, train_loader)"
   ]
  },
  {
   "cell_type": "code",
   "execution_count": null,
   "metadata": {},
   "outputs": [],
   "source": [
    "%reload_ext tensorboard\n",
    "%tensorboard --logdir lightning_logs/"
   ]
  },
  {
   "cell_type": "markdown",
   "metadata": {},
   "source": [
    "## **Adding auto learning rate finder**\n",
    "\n",
    "- Using `auto_lr_find` (automatically find learning rate)"
   ]
  },
  {
   "cell_type": "code",
   "execution_count": null,
   "metadata": {},
   "outputs": [],
   "source": [
    "class DogBreedClassifierPlus(pl.LightningModule):\n",
    "    def __init__(self, n_classes=120, lr=1e-4):\n",
    "        super().__init__()\n",
    "\n",
    "        self.n_classes = n_classes\n",
    "        self.lr = lr\n",
    "        # create resnet50, replace last layer\n",
    "        self.backbone = models.resnet50(pretrained=True)\n",
    "        for param in self.backbone.parameters():\n",
    "            param.requires_grad = False\n",
    "        self.backbone.fc = torch.nn.Linear(self.backbone.fc.in_features, n_classes)\n",
    "\n",
    "    def forward(self, x):\n",
    "        preds = self.backbone(x)\n",
    "        return preds\n",
    "        \n",
    "    def training_step(self, batch, batch_idx):\n",
    "        x, y = batch\n",
    "        preds = self.backbone(x)\n",
    "        loss = cross_entropy(preds, y)\n",
    "        self.log(\"train_loss\", loss)  # logging\n",
    "        self.log(\"train_accuracy\", accuracy(preds, y))\n",
    "        return loss\n",
    "\n",
    "    def configure_optimizers(self):\n",
    "        optimizer = torch.optim.Adam(self.parameters(), lr=self.lr)\n",
    "        return optimizer"
   ]
  },
  {
   "cell_type": "code",
   "execution_count": null,
   "metadata": {},
   "outputs": [],
   "source": [
    "# initialize class instance\n",
    "classifier = DogBreedClassifierPlus()\n",
    "\n",
    "# using pytorch lightning to fit the train_loader\n",
    "trainer = pl.Trainer(\n",
    "    callbacks=[TQDMProgressBar(refresh_rate=1)],\n",
    "    max_epochs=1,\n",
    "    gpus=1,\n",
    "    auto_lr_find=True\n",
    ")  # fast_dev_run=True"
   ]
  },
  {
   "cell_type": "code",
   "execution_count": null,
   "metadata": {},
   "outputs": [],
   "source": [
    "lr_finder = trainer.tuner.lr_find(classifier, train_loader)"
   ]
  },
  {
   "cell_type": "code",
   "execution_count": null,
   "metadata": {},
   "outputs": [],
   "source": [
    "lr_finder.suggestion()  # suggested lr_finder"
   ]
  },
  {
   "cell_type": "code",
   "execution_count": null,
   "metadata": {},
   "outputs": [],
   "source": [
    "classifier = DogBreedClassifier(lr=lr_finder.suggestion())\n",
    "\n",
    "trainer = pl.Trainer(\n",
    "    callbacks=[TQDMProgressBar(refresh_rate=1)],\n",
    "    max_epochs=5,\n",
    "    gpus=1,\n",
    ")\n",
    "trainer.fit(classifier, train_loader)"
   ]
  },
  {
   "cell_type": "code",
   "execution_count": null,
   "metadata": {},
   "outputs": [],
   "source": [
    "%reload_ext tensorboard\n",
    "%tensorboard --logdir lightning_logs/"
   ]
  },
  {
   "cell_type": "markdown",
   "metadata": {},
   "source": [
    "## **Prediction** "
   ]
  },
  {
   "cell_type": "code",
   "execution_count": null,
   "metadata": {},
   "outputs": [],
   "source": [
    "from torch.nn.functional import softmax"
   ]
  },
  {
   "cell_type": "code",
   "execution_count": null,
   "metadata": {},
   "outputs": [],
   "source": [
    "images, labels = next(iter(train_loader))"
   ]
  },
  {
   "cell_type": "code",
   "execution_count": null,
   "metadata": {},
   "outputs": [],
   "source": [
    "y_pred = classifier(images.cuda())\n",
    "y_pred = softmax(y_pred, dim=-1).argmax(dim=-1)"
   ]
  },
  {
   "cell_type": "code",
   "execution_count": null,
   "metadata": {},
   "outputs": [],
   "source": [
    "y_pred, labels"
   ]
  },
  {
   "cell_type": "markdown",
   "metadata": {},
   "source": [
    "## **Homework**\n",
    "\n",
    "- Try changing `max_epochs`\n",
    "- Try changing the pre-trained model in `backbone`. See how it affects the final accuracy\n",
    "- Observe the difference between `DogBreedClassifier` and `DogBreedClassifierPlus`. What happens after `current_epoch`. Hint: you can look at the tensorboard"
   ]
  }
 ],
 "metadata": {
  "kernelspec": {
   "display_name": "Python 3",
   "language": "python",
   "name": "python3"
  },
  "language_info": {
   "codemirror_mode": {
    "name": "ipython",
    "version": 3
   },
   "file_extension": ".py",
   "mimetype": "text/x-python",
   "name": "python",
   "nbconvert_exporter": "python",
   "pygments_lexer": "ipython3",
   "version": "3.8.10"
  }
 },
 "nbformat": 4,
 "nbformat_minor": 5
}
